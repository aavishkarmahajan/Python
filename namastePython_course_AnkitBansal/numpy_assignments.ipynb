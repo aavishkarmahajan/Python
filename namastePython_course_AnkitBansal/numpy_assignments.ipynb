{
 "cells": [
  {
   "cell_type": "code",
   "execution_count": 4,
   "id": "6d829a71-a1cc-4d5a-8a90-f8e4eb04df4d",
   "metadata": {},
   "outputs": [],
   "source": []
  },
  {
   "cell_type": "code",
   "execution_count": 5,
   "id": "711566c3-b10c-4177-80bc-1d87b664c96c",
   "metadata": {},
   "outputs": [
    {
     "name": "stdout",
     "output_type": "stream",
     "text": [
      "[[1 5 2 7]\n",
      " [1 3 5 6]\n",
      " [5 8 2 5]]\n"
     ]
    }
   ],
   "source": [
    "# 1- Create a numpy array of shape (3, 4) and assign random integers between 1 and 10 to every element.\n",
    "import numpy as np\n",
    "arr = np.random.randint(low=1, high=10, size=(3,4))\n",
    "print(arr)"
   ]
  },
  {
   "cell_type": "code",
   "execution_count": 22,
   "id": "91841680-9e36-450b-817b-be2b0dc3c28b",
   "metadata": {},
   "outputs": [
    {
     "name": "stdout",
     "output_type": "stream",
     "text": [
      "9\n"
     ]
    }
   ],
   "source": [
    "# 2- Find the maximum value in the array created in step 1.\n",
    "import numpy as np\n",
    "max_val = np.max(arr)\n",
    "print(max_val)"
   ]
  },
  {
   "cell_type": "code",
   "execution_count": 26,
   "id": "cf8004e0-2af3-4b45-9fc4-c713081953c9",
   "metadata": {},
   "outputs": [
    {
     "name": "stdout",
     "output_type": "stream",
     "text": [
      "[6 4 5]\n"
     ]
    }
   ],
   "source": [
    "# 3- Calculate the mean value of each row in the array.\n",
    "import numpy as np\n",
    "mean = np.mean(arr, axis = 1,dtype='int32')\n",
    "print(mean)"
   ]
  },
  {
   "cell_type": "code",
   "execution_count": 36,
   "id": "0cea1850-c145-4de5-96e0-a463b6cdd6f5",
   "metadata": {},
   "outputs": [
    {
     "name": "stdout",
     "output_type": "stream",
     "text": [
      "[[7 8 7 2 4 1]\n",
      " [8 3 6 1 4 9]]\n"
     ]
    }
   ],
   "source": [
    "# 4- Reshape the array from step 1 into a shape of (2, 6).\n",
    "import numpy as np\n",
    "reshape_arr = np.reshape(reshape_arr, (2,6))\n",
    "print(reshape_arr)"
   ]
  },
  {
   "cell_type": "code",
   "execution_count": 30,
   "id": "2f13876a-d82a-4476-8df4-eab586386e4b",
   "metadata": {},
   "outputs": [
    {
     "name": "stdout",
     "output_type": "stream",
     "text": [
      "[[14 16 14  4]\n",
      " [ 8  2 16  6]\n",
      " [12  2  8 18]]\n"
     ]
    }
   ],
   "source": [
    "# 5- Multiply each element in the array by 2.\n",
    "import numpy as np\n",
    "print(arr*2)"
   ]
  },
  {
   "cell_type": "code",
   "execution_count": 8,
   "id": "71ad8f1a-dc5c-475f-963a-fee24b4a0e32",
   "metadata": {},
   "outputs": [
    {
     "name": "stdout",
     "output_type": "stream",
     "text": [
      "[0 1 2 3 4 5 6 7 8 9]\n",
      "[1 3 5 7 9]\n"
     ]
    }
   ],
   "source": [
    "# 6- Create a numpy array with values ranging from 0 to 9. Extract the odd numbers from the array.\n",
    "import numpy as np\n",
    "new_arr = np.arange(10)\n",
    "print(new_arr)\n",
    "odd_nums = new_arr[new_arr%2!=0]\n",
    "print(odd_nums)"
   ]
  },
  {
   "cell_type": "code",
   "execution_count": 7,
   "id": "d0e2c9da-940f-47bd-a7bd-cf31b0de2664",
   "metadata": {},
   "outputs": [
    {
     "name": "stdout",
     "output_type": "stream",
     "text": [
      "[[1 0 0]\n",
      " [0 1 0]\n",
      " [0 0 1]]\n"
     ]
    }
   ],
   "source": [
    "# 7- Create a 3x3 identity matrix using numpy.\n",
    "import numpy as np\n",
    "idm = np.identity(3, dtype = 'int32')\n",
    "print(idm)"
   ]
  },
  {
   "cell_type": "code",
   "execution_count": 22,
   "id": "a5288f40-69ce-4519-9a4d-77bfaae34244",
   "metadata": {},
   "outputs": [
    {
     "name": "stdout",
     "output_type": "stream",
     "text": [
      "[[11 39  4 20  7]\n",
      " [ 1 48 48 22 19]\n",
      " [37 43 16 47 38]\n",
      " [19 23  4 42 15]\n",
      " [20 14 28 31 42]]\n"
     ]
    }
   ],
   "source": [
    "# 8- Create a 5x5 array with random values and normalize it (subtract the mean and divide by the standard deviation of the array).\n",
    "import numpy as np\n",
    "rarr = np.random.randint(50, size=(5,5))\n",
    "print(rarr)\n",
    "nrarr = (rarr - np.mean(rarr))/np.std(rarr)"
   ]
  },
  {
   "cell_type": "code",
   "execution_count": 31,
   "id": "a0a76881-bac5-43c6-a9e9-ed8aba564dcd",
   "metadata": {},
   "outputs": [
    {
     "name": "stdout",
     "output_type": "stream",
     "text": [
      "[[9 7 2]\n",
      " [5 6 4]\n",
      " [4 0 7]]\n",
      "[[ 0 18 18]\n",
      " [18  5 11]\n",
      " [11 14 15]]\n",
      "[[  0 126  36]\n",
      " [ 90  30  44]\n",
      " [ 44   0 105]]\n"
     ]
    }
   ],
   "source": [
    "# 9- Perform element-wise multiplication between two arrays of the same shape.\n",
    "import numpy as np\n",
    "arr1 = np.random.randint(10, size = (3,3))\n",
    "print(arr1)\n",
    "arr2 = np.random.randint(20, size = (3,3))\n",
    "print(arr2)\n",
    "print(arr1 * arr2)"
   ]
  },
  {
   "cell_type": "code",
   "execution_count": 37,
   "id": "f016045d-d558-4a33-a01e-9d8d2db53775",
   "metadata": {},
   "outputs": [
    {
     "name": "stdout",
     "output_type": "stream",
     "text": [
      "[ 1.77165354  1.35433071  2.23228346 13.03543307  0.78740157  1.96850394]\n"
     ]
    }
   ],
   "source": [
    "# 10 - Given an array of heights in centimeters, convert them to inches (1 inch = 2.54 cm).\n",
    "arr_ht = np.array([4.5, 3.44, 5.67, 33.11, 2, 5])\n",
    "print(arr_ht/2.54)"
   ]
  },
  {
   "cell_type": "code",
   "execution_count": 45,
   "id": "e28f2e9c-56f2-48e6-8f1d-094c0a6dec54",
   "metadata": {},
   "outputs": [
    {
     "name": "stdout",
     "output_type": "stream",
     "text": [
      "[0 1 2 3 4 5 6 7 8 9]\n",
      "[ 0 -1  2 -1  4 -1  6 -1  8 -1]\n"
     ]
    }
   ],
   "source": [
    "# 11 - Create a 1D array of numbers from 0 to 9. Replace all odd numbers with -1.\n",
    "import numpy as np\n",
    "arr = np.arange(10)\n",
    "print(arr)\n",
    "arr[arr%2!=0] = -1\n",
    "print(arr)"
   ]
  },
  {
   "cell_type": "code",
   "execution_count": 58,
   "id": "9b63e2b5-d46c-4e37-98df-0a7c00bfd83b",
   "metadata": {},
   "outputs": [
    {
     "name": "stdout",
     "output_type": "stream",
     "text": [
      "[[24  8  8]\n",
      " [18  7 11]\n",
      " [ 7 23 19]]\n",
      "(np.int64(0), np.int64(0))\n",
      "(np.int64(1), np.int64(1))\n"
     ]
    }
   ],
   "source": [
    "# 12 - Create a 2D array with random values and find the indices of the maximum and minimum values.\n",
    "import numpy as np\n",
    "arr = np.random.randint(low=5, high=25, size=(3,3))\n",
    "print(arr)\n",
    "maxidx = np.unravel_index(np.argmax(arr), arr.shape)\n",
    "minidx = np.unravel_index(np.argmin(arr), arr.shape)\n",
    "print(maxidx)\n",
    "print(minidx)"
   ]
  },
  {
   "cell_type": "code",
   "execution_count": null,
   "id": "e01847d3-b047-49b3-9cdc-daacfa66f6d0",
   "metadata": {},
   "outputs": [],
   "source": []
  },
  {
   "cell_type": "code",
   "execution_count": null,
   "id": "beada2c8-fbc3-43d5-9a8a-1fa5291c9060",
   "metadata": {},
   "outputs": [],
   "source": []
  }
 ],
 "metadata": {
  "kernelspec": {
   "display_name": "Python 3 (ipykernel)",
   "language": "python",
   "name": "python3"
  },
  "language_info": {
   "codemirror_mode": {
    "name": "ipython",
    "version": 3
   },
   "file_extension": ".py",
   "mimetype": "text/x-python",
   "name": "python",
   "nbconvert_exporter": "python",
   "pygments_lexer": "ipython3",
   "version": "3.12.4"
  }
 },
 "nbformat": 4,
 "nbformat_minor": 5
}
